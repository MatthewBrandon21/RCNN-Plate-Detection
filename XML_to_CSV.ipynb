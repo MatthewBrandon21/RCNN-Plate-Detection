{
 "cells": [
  {
   "cell_type": "code",
   "execution_count": 1,
   "id": "70199497",
   "metadata": {},
   "outputs": [],
   "source": [
    "#XML file to CSV file"
   ]
  },
  {
   "cell_type": "code",
   "execution_count": 2,
   "id": "9d4ad205",
   "metadata": {},
   "outputs": [],
   "source": [
    "import os\n",
    "import glob\n",
    "import pandas as pd\n",
    "import xml.etree.ElementTree as ET\n",
    "from lxml import etree"
   ]
  },
  {
   "cell_type": "code",
   "execution_count": 3,
   "id": "44953ac2",
   "metadata": {},
   "outputs": [],
   "source": [
    "#looping dari semua file xml di folder xml\n",
    "xml_list = []\n",
    "for xml_file in glob.glob(\"xml\" + '/*.xml'):\n",
    "    tree = ET.parse(xml_file)\n",
    "    doc = etree.parse(xml_file)\n",
    "    count = doc.xpath(\"count(//object)\")\n",
    "    root = tree.getroot()\n",
    "    with open(str(xml_file)[0:-4]+\".csv\",\"w+\") as f:\n",
    "        f.write(str(int(count)))\n",
    "    for member in root.findall('object'):\n",
    "        value = (\n",
    "                 member[4][0].text,\n",
    "                 member[4][1].text,\n",
    "                 member[4][2].text,\n",
    "                 member[4][3].text\n",
    "                 )\n",
    "        coord = \" \".join(value)\n",
    "        with open(str(xml_file)[0:-4]+\".csv\",\"a\") as f:\n",
    "                f.write(\"\\n\")\n",
    "                f.write(coord)"
   ]
  }
 ],
 "metadata": {
  "kernelspec": {
   "display_name": "Python 3",
   "language": "python",
   "name": "python3"
  },
  "language_info": {
   "codemirror_mode": {
    "name": "ipython",
    "version": 3
   },
   "file_extension": ".py",
   "mimetype": "text/x-python",
   "name": "python",
   "nbconvert_exporter": "python",
   "pygments_lexer": "ipython3",
   "version": "3.8.8"
  }
 },
 "nbformat": 4,
 "nbformat_minor": 5
}
